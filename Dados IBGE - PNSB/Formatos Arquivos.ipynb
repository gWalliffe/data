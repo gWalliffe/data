{
 "cells": [
  {
   "cell_type": "code",
   "execution_count": 0,
   "metadata": {
    "application/vnd.databricks.v1+cell": {
     "cellMetadata": {
      "byteLimit": 2048000,
      "rowLimit": 10000
     },
     "inputWidgets": {},
     "nuid": "a493f5f8-f6ad-47b1-bbd7-db1559f9e7c5",
     "showTitle": false,
     "title": ""
    },
    "jupyter": {
     "outputs_hidden": true
    }
   },
   "outputs": [],
   "source": [
    "display(dbutils.fs.ls(\"/FileStore/\"))"
   ]
  },
  {
   "cell_type": "code",
   "execution_count": 0,
   "metadata": {
    "application/vnd.databricks.v1+cell": {
     "cellMetadata": {
      "byteLimit": 2048000,
      "rowLimit": 10000
     },
     "inputWidgets": {},
     "nuid": "d8059981-7cdd-4cd4-94cd-ad5e656afa3c",
     "showTitle": false,
     "title": ""
    }
   },
   "outputs": [],
   "source": [
    "dbutils.fs.mkdirs(\"/FileStore/tables/arquivos_curso\")"
   ]
  },
  {
   "cell_type": "markdown",
   "metadata": {
    "application/vnd.databricks.v1+cell": {
     "cellMetadata": {
      "byteLimit": 2048000,
      "rowLimit": 10000
     },
     "inputWidgets": {},
     "nuid": "fac8f971-b2a9-45d3-be6f-b5fb377d0f21",
     "showTitle": false,
     "title": ""
    }
   },
   "source": [
    "#TRABALHANDO COM ARQUIVOS DO IBGE\n"
   ]
  },
  {
   "cell_type": "code",
   "execution_count": 0,
   "metadata": {
    "application/vnd.databricks.v1+cell": {
     "cellMetadata": {
      "byteLimit": 2048000,
      "rowLimit": 10000
     },
     "inputWidgets": {},
     "nuid": "3cbd0cb4-ff5c-4df0-8a9e-391586bb7f80",
     "showTitle": false,
     "title": ""
    },
    "jupyter": {
     "outputs_hidden": true
    }
   },
   "outputs": [],
   "source": [
    "#LENDO ARQUIVO JSON\n",
    "df = spark.read.json(\"/FileStore/tables/arquivos_curso/PNSB.json\")\n",
    "display(df)"
   ]
  },
  {
   "cell_type": "code",
   "execution_count": 0,
   "metadata": {
    "application/vnd.databricks.v1+cell": {
     "cellMetadata": {
      "byteLimit": 2048000,
      "rowLimit": 10000
     },
     "inputWidgets": {},
     "nuid": "d7585075-54e0-4621-850d-b7a63f703e3b",
     "showTitle": false,
     "title": ""
    }
   },
   "outputs": [],
   "source": [
    "#renomeando colunas\n",
    "df = df.withColumnRenamed(\"D1C\",\"cod_regiao\")\n",
    "df = df.withColumnRenamed(\"D1N\",\"regiao\")\n",
    "df = df.withColumnRenamed(\"D2C\",\"cod_variavel\")\n",
    "df = df.withColumnRenamed(\"D2N\",\"variavel\")\n",
    "df = df.withColumnRenamed(\"D3C\",\"cod_ano\")\n",
    "df = df.withColumnRenamed(\"D3N\",\"ano\")\n",
    "df = df.withColumnRenamed(\"D4C\",\"cod_doenca\")\n",
    "df = df.withColumnRenamed(\"D4N\",\"doenca\")\n",
    "df = df.withColumnRenamed(\"MC\",\"cod_medida\")\n",
    "df = df.withColumnRenamed(\"MN\",\"medida\")\n",
    "df = df.withColumnRenamed(\"NC\",\"cod_nivel_territorial\")\n",
    "df = df.withColumnRenamed(\"NN\",\"nivel_territorial\")\n",
    "df = df.withColumnRenamed(\"V\",\"valor\")"
   ]
  },
  {
   "cell_type": "code",
   "execution_count": 0,
   "metadata": {
    "application/vnd.databricks.v1+cell": {
     "cellMetadata": {
      "byteLimit": 2048000,
      "rowLimit": 10000
     },
     "inputWidgets": {},
     "nuid": "cc719526-9753-49b4-8391-f714ad8cd106",
     "showTitle": false,
     "title": ""
    }
   },
   "outputs": [],
   "source": [
    "#removendo primeira linha (header)\n",
    "df = df.filter(df.valor!=\"Valor\")\n",
    "display (df)"
   ]
  },
  {
   "cell_type": "code",
   "execution_count": 0,
   "metadata": {
    "application/vnd.databricks.v1+cell": {
     "cellMetadata": {
      "byteLimit": 2048000,
      "rowLimit": 10000
     },
     "inputWidgets": {},
     "nuid": "dedb9ea0-3b8f-4d7f-be58-8443cf405db9",
     "showTitle": false,
     "title": ""
    }
   },
   "outputs": [],
   "source": [
    "#verificando Tipagem das colunas\n",
    "df.printSchema()"
   ]
  },
  {
   "cell_type": "code",
   "execution_count": 0,
   "metadata": {
    "application/vnd.databricks.v1+cell": {
     "cellMetadata": {
      "byteLimit": 2048000,
      "rowLimit": 10000
     },
     "inputWidgets": {},
     "nuid": "d117cf5f-a57f-44e6-97a9-926e21b342f6",
     "showTitle": false,
     "title": ""
    }
   },
   "outputs": [],
   "source": [
    "#alterando tipagem das colunas\n",
    "from pyspark.sql.functions import col\n",
    "from pyspark.sql.types import IntegerType\n",
    "\n",
    "df_new = (\n",
    "    df.withColumn(\"cod_regiao\", col(\"cod_regiao\").cast(IntegerType()))\n",
    "    .withColumn(\"cod_variavel\", col(\"cod_variavel\").cast(IntegerType()))\n",
    "    .withColumn(\"cod_ano\", col(\"cod_ano\").cast(IntegerType()))\n",
    "    .withColumn(\"ano\", col(\"ano\").cast(IntegerType()))\n",
    "    .withColumn(\"cod_doenca\", col(\"cod_doenca\").cast(IntegerType()))\n",
    "    .withColumn(\"cod_medida\", col(\"cod_medida\").cast(IntegerType()))\n",
    "    .withColumn(\"cod_nivel_territorial\", col(\"cod_nivel_territorial\").cast(IntegerType()))\n",
    "    .withColumn(\"valor\", col(\"valor\").cast(IntegerType()))\n",
    ")"
   ]
  },
  {
   "cell_type": "markdown",
   "metadata": {
    "application/vnd.databricks.v1+cell": {
     "cellMetadata": {},
     "inputWidgets": {},
     "nuid": "9e18db1e-9d67-4ec1-8226-ed7ab7d25653",
     "showTitle": false,
     "title": ""
    }
   },
   "source": [
    "##Comprimindo um arquivo JSON"
   ]
  },
  {
   "cell_type": "code",
   "execution_count": 0,
   "metadata": {
    "application/vnd.databricks.v1+cell": {
     "cellMetadata": {
      "byteLimit": 2048000,
      "rowLimit": 10000
     },
     "inputWidgets": {},
     "nuid": "811b0403-4944-480a-9695-5282b672c680",
     "showTitle": false,
     "title": ""
    }
   },
   "outputs": [],
   "source": [
    "#localizando o arquivo e vendo seu tamanho (size 129046)\n",
    "display(dbutils.fs.ls(\"/FileStore/tables/arquivos_curso\"))"
   ]
  },
  {
   "cell_type": "code",
   "execution_count": 0,
   "metadata": {
    "application/vnd.databricks.v1+cell": {
     "cellMetadata": {
      "byteLimit": 2048000,
      "rowLimit": 10000
     },
     "inputWidgets": {},
     "nuid": "21e042d9-1a03-47de-8d63-4844312f9c77",
     "showTitle": false,
     "title": ""
    }
   },
   "outputs": [],
   "source": [
    "#comprimindo o arquivo\n",
    "df_new = (df.write.option(\"compression\",\"gzip\")\n",
    "          .mode(\"overwrite\")\n",
    "          .format(\"json\")\n",
    "          .save(\"/FileStore/tables/arquivos_curso/json_gzip/\")\n",
    ")"
   ]
  },
  {
   "cell_type": "code",
   "execution_count": 0,
   "metadata": {
    "application/vnd.databricks.v1+cell": {
     "cellMetadata": {
      "byteLimit": 2048000,
      "rowLimit": 10000
     },
     "inputWidgets": {},
     "nuid": "9074fb3b-790e-4e5f-b20e-6dbdcb42d709",
     "showTitle": false,
     "title": ""
    }
   },
   "outputs": [],
   "source": [
    "#verificando compressão (size 4220)\n",
    "display(dbutils.fs.ls(\"/FileStore/tables/arquivos_curso/json_gzip/\"))"
   ]
  },
  {
   "cell_type": "code",
   "execution_count": 0,
   "metadata": {
    "application/vnd.databricks.v1+cell": {
     "cellMetadata": {
      "byteLimit": 2048000,
      "rowLimit": 10000
     },
     "inputWidgets": {},
     "nuid": "76341490-1ebb-4124-bdb1-231234a324a3",
     "showTitle": false,
     "title": ""
    }
   },
   "outputs": [],
   "source": [
    "#lendo o arquivo comprimido\n",
    "df = spark.read.option(\"compression\",\"gzip\").json(\"/FileStore/tables/arquivos_curso/json_gzip/\")\n",
    "\n",
    "display(df)"
   ]
  },
  {
   "cell_type": "markdown",
   "metadata": {
    "application/vnd.databricks.v1+cell": {
     "cellMetadata": {
      "byteLimit": 2048000,
      "rowLimit": 10000
     },
     "inputWidgets": {},
     "nuid": "dfbad1b0-847e-4ef4-9d0f-cb30b5f263ed",
     "showTitle": false,
     "title": ""
    }
   },
   "source": [
    "##Salvando dataframe em outro formato (csv)"
   ]
  },
  {
   "cell_type": "code",
   "execution_count": 0,
   "metadata": {
    "application/vnd.databricks.v1+cell": {
     "cellMetadata": {
      "byteLimit": 2048000,
      "rowLimit": 10000
     },
     "inputWidgets": {},
     "nuid": "620c8c8e-0bfa-44eb-8db4-4f47af2dcc4c",
     "showTitle": false,
     "title": ""
    }
   },
   "outputs": [],
   "source": [
    "#escrevendo um novo arquivo e salvando como csv\n",
    "df.write.option(\"sep\", \",\").format(\"csv\").save(\"/FileStore/tables/arquivos_curso/pnsb_csv/\") "
   ]
  },
  {
   "cell_type": "code",
   "execution_count": 0,
   "metadata": {
    "application/vnd.databricks.v1+cell": {
     "cellMetadata": {
      "byteLimit": 2048000,
      "rowLimit": 10000
     },
     "inputWidgets": {},
     "nuid": "f4ced797-bbcd-4d4b-a68f-54c58c1403be",
     "showTitle": false,
     "title": ""
    }
   },
   "outputs": [],
   "source": [
    "#verificando arquivo\n",
    "display(dbutils.fs.ls(\"/FileStore/tables/arquivos_curso/pnsb_csv/\"))"
   ]
  },
  {
   "cell_type": "markdown",
   "metadata": {
    "application/vnd.databricks.v1+cell": {
     "cellMetadata": {},
     "inputWidgets": {},
     "nuid": "40f5f8de-3315-4f57-a54f-74fb8266d43d",
     "showTitle": false,
     "title": ""
    }
   },
   "source": [
    "#DESAFIO - QUAL MELHOR COMPRESSÃO PARA O ARQUIVO TRABALHADO"
   ]
  },
  {
   "cell_type": "code",
   "execution_count": 0,
   "metadata": {
    "application/vnd.databricks.v1+cell": {
     "cellMetadata": {
      "byteLimit": 2048000,
      "rowLimit": 10000
     },
     "inputWidgets": {},
     "nuid": "ec53ef35-af4b-4fda-81ed-20e1f831b284",
     "showTitle": false,
     "title": ""
    }
   },
   "outputs": [],
   "source": [
    "#documentação - https://spark.apache.org/docs/3.3.1/sql-data-sources-json.html\n",
    "def salvando_arquivo_comprimido_json(dataframe):\n",
    "\n",
    "  compressoes = [\"none\", \"bzip2\", \"gzip\", \"lz4\", \"snappy\", \"deflate\"]\n",
    "  caminho_padrao = \"/FileStore/tables/arquivos_curso/desafio/json_\"\n",
    "\n",
    "  for tipo_compressao in compressoes:\n",
    "    dataframe.write\\\n",
    "      .option(\"compression\", tipo_compressao)\\\n",
    "      .oprtion(\"header\", true)\n",
    "      .mode(\"overwrite\") \\\n",
    "      .format(\"json\") \\\n",
    "      .save(caminho_padrao + tipo_compressao)\n",
    "\n",
    "    display(dbutils.fs.ls(caminho_padrao + tipo_compressao))\n",
    "\n",
    "salvando_arquivo_comprimido_json(df)"
   ]
  }
 ],
 "metadata": {
  "application/vnd.databricks.v1+notebook": {
   "dashboards": [],
   "language": "python",
   "notebookMetadata": {
    "pythonIndentUnit": 4
   },
   "notebookName": "Formatos Arquivos",
   "widgets": {}
  }
 },
 "nbformat": 4,
 "nbformat_minor": 0
}
